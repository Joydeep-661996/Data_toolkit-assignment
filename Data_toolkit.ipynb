{
  "nbformat": 4,
  "nbformat_minor": 0,
  "metadata": {
    "colab": {
      "provenance": []
    },
    "kernelspec": {
      "name": "python3",
      "display_name": "Python 3"
    },
    "language_info": {
      "name": "python"
    }
  },
  "cells": [
    {
      "cell_type": "markdown",
      "source": [
        "***DATA TOOLKIT ASSIGNMENT***"
      ],
      "metadata": {
        "id": "hUiRTmFWh1YY"
      }
    },
    {
      "cell_type": "markdown",
      "source": [
        "Q1.What is NumPy, and why is it widely used in Python\n",
        "\n",
        "Ans: NumPy is the fundamental package for scientific computing in Python. It is a Python library that provides a\n",
        "multidimensional array object, various derived objects (such as masked arrays and matrices), and an\n",
        "assortment of routines for fast operations on arrays, including mathematical, logical, shape manipulation,\n",
        "sorting, selecting, I/O, discrete Fourier transforms, basic linear algebra, basic statistical operations, random\n",
        "simulation and much more."
      ],
      "metadata": {
        "id": "s5VDB3UQh4uA"
      }
    },
    {
      "cell_type": "markdown",
      "source": [
        "Q2.How does broadcasting work in NumPy?\n",
        "\n",
        "Ans:Broadcasting in NumPy is a powerful mechanism that allows arrays of different shapes to be used together in arithmetic operations without making explicit copies. It simplifies code and improves performance by avoiding unnecessary memory use.\n",
        "\n",
        "Broadcasting Rules\n",
        "When operating on two arrays, NumPy compares their shapes element-wise, starting from the trailing dimensions and works its way forward. Two dimensions are compatible when:\n",
        "\n",
        "They are equal, or\n",
        "\n",
        "One of them is 1\n",
        "\n",
        "If these conditions are not met, broadcasting fails and NumPy raises a ValueError.\n",
        "\n"
      ],
      "metadata": {
        "id": "BrqrAjEeii1A"
      }
    },
    {
      "cell_type": "markdown",
      "source": [
        "Q3.What is a Pandas DataFrame?\n",
        "\n",
        "Ans: A Pandas DataFrame is a two-dimensional table, similar to a spreadsheet or a SQL table. It consists of\n",
        "rows and columns, and each column is a Series. DataFrames are the primary data structure for most Pandas\n",
        "operations."
      ],
      "metadata": {
        "id": "3bBctKEAjqu3"
      }
    },
    {
      "cell_type": "markdown",
      "source": [
        "Q4.Explain the use of the groupby() method in Pandas?\n",
        "\n",
        "Ans: The .groupby() method in Pandas is used for grouping and aggregating data based on the values in one or more columns.\n",
        ".groupby() splits the data into groups based on some criteria, then allows you to:\n",
        "\n",
        "Aggregate (e.g., sum(), mean(), count())\n",
        "\n",
        "Transform (e.g., standardize within groups)\n",
        "\n",
        "Filter (e.g., only keep groups that meet a condition)\n",
        "\n"
      ],
      "metadata": {
        "id": "x6Bc-ecFkQWP"
      }
    },
    {
      "cell_type": "markdown",
      "source": [
        "Q5.Why is Seaborn preferred for statistical visualizations?\n",
        "\n",
        "ANS:Seaborn is preferred for statistical visualizations in Python because it builds on Matplotlib and provides a high-level, easier-to-use interface specifically designed for exploratory data analysis (EDA) and statistical graphics\n",
        "\n",
        "Seaborn is preferred for statistical visualization because it:\n",
        "\n",
        "Makes complex statistical plots simple to create\n",
        "\n",
        "Has excellent defaults for clarity and aesthetics\n",
        "\n",
        "Is tightly integrated with pandas and statistical reasoning"
      ],
      "metadata": {
        "id": "VsAuRtqyl4DF"
      }
    },
    {
      "cell_type": "markdown",
      "source": [
        "Q6.What are the differences between NumPy arrays and Python lists?\n",
        "\n",
        "ANS:The key differences between NumPy arrays and Python lists revolve around performance, functionality, and usage in numerical computing\n",
        "\n",
        "🔹 1. Performance (Speed & Memory)\n",
        "NumPy arrays are faster and more memory-efficient than Python lists.\n",
        "\n",
        "🔹 2. Homogeneity\n",
        "NumPy arrays: All elements must be of the same data type (e.g., float64, int32).\n",
        "\n",
        "Python lists: Can contain mixed types (e.g., [1, \"a\", True] is valid).\n",
        "\n",
        "🔹 3. Functionality\n",
        "NumPy arrays support:\n",
        "\n",
        "Vectorized operations (a + b, a * 2, etc.)\n",
        "\n",
        "Broadcasting\n",
        "\n",
        "Advanced indexing and slicing\n",
        "\n",
        "Built-in mathematical functions (e.g., np.sum(), np.mean())\n",
        "\n",
        "Python lists:\n",
        "\n",
        "Do not support element-wise math\n",
        "\n",
        "Require loops or list comprehensions for arithmetic\n",
        "\n",
        "🔹 4. Memory Efficiency\n",
        "NumPy arrays use contiguous memory blocks (compact and typed).\n",
        "\n",
        "Python lists store references to objects, increasing overhead.\n",
        "\n",
        "\n",
        "🔹 5. Multi-Dimensional Support\n",
        "NumPy: Native support for multi-dimensional arrays (e.g., matrices, tensors).\n",
        "\n",
        "Lists: Can emulate multi-dimensional arrays using nested lists, but it’s cumbersome and inefficient.\n",
        "\n",
        "\n",
        "\n"
      ],
      "metadata": {
        "id": "v4ms0cj-iC6n"
      }
    },
    {
      "cell_type": "markdown",
      "source": [
        "Q7. What is a heatmap, and when should it be used?\n",
        "\n",
        "ANS:\n",
        "A heatmap is a data visualization tool that uses color gradients to represent values in a matrix or table. Each cell’s color reflects the magnitude or intensity of the value it represents.\n",
        "\n",
        "Heatmaps are ideal for:\n",
        "\n",
        "Visualizing correlation or similarity matrices\n",
        "\n",
        "Example: Pearson correlation between numerical variables\n",
        "\n",
        "Spotting patterns in a data grid\n",
        "\n",
        "Example: Attendance over time, temperature across regions\n",
        "\n",
        "Highlighting high and low values\n",
        "\n",
        "Example: Sales by region and month\n",
        "\n",
        "Comparing data across two categorical axes\n",
        "\n",
        "Example: Response rate by device type and time of day"
      ],
      "metadata": {
        "id": "xtZXpuRxmWfc"
      }
    },
    {
      "cell_type": "markdown",
      "source": [
        "Q8. What does the term “vectorized operation” mean in NumPy?\n",
        "\n",
        "ANS:  A vectorized operation in NumPy refers to performing operations directly on entire arrays (or vectors) without using explicit loops. This is made possible by NumPy’s low-level, optimized implementation in C, allowing for fast, element-wise computation."
      ],
      "metadata": {
        "id": "BE0lyovirqx4"
      }
    },
    {
      "cell_type": "markdown",
      "source": [
        "Q9.How does Matplotlib differ from Plotly?\n",
        "\n",
        "ANS:Matplotlib is mainly used for creating static, publication-quality plots with high customization, while Plotly is better for making interactive, web-friendly visualizations with built-in tools like zooming and tooltips.\n"
      ],
      "metadata": {
        "id": "bKQ9x987vAI7"
      }
    },
    {
      "cell_type": "markdown",
      "source": [
        "Q10.What is the significance of hierarchical indexing in Pandas\n",
        "\n",
        "ANS:Hierarchical indexing (also called MultiIndexing) in Pandas allows you to use multiple index levels on a single axis (rows or columns). This enables you to organize and analyze higher-dimensional data in a 2D DataFrame.\n",
        "\n",
        "🔹 Significance:\n",
        "Allows for more complex data structures (like panel or multi-dimensional data)\n",
        "\n",
        "Makes grouped data easier to manipulate, especially after operations like groupby()\n",
        "\n",
        "Supports advanced slicing, filtering, and reshaping\n",
        "\n",
        "Enables cleaner representation of related data (e.g., time-series across categories)\n",
        "\n",
        "In short, hierarchical indexing helps manage and analyze structured, multi-level data more efficiently and flexibly in Pandas.\n",
        "\n",
        "\n",
        "\n",
        "\n"
      ],
      "metadata": {
        "id": "zA5V3PBMvjRj"
      }
    },
    {
      "cell_type": "markdown",
      "source": [
        "Q11.What is the role of Seaborn’s pairplot() function?\n",
        "\n",
        "ANS:  Seaborn’s pairplot() function is used to visualize pairwise relationships between numerical variables in a dataset. It creates a grid of scatter plots for each pair of variables, along with histograms or KDE plots on the diagonal, allowing you to quickly understand correlations, distributions, and patterns across multiple dimensions of the data.\n",
        "\n",
        "🔹 Role of pairplot()\n",
        "Visualizes relationships between multiple variables at once.\n",
        "\n",
        "Identifies correlations, trends, and outliers.\n",
        "\n",
        "Shows distributions of individual variables on the diagonal.\n",
        "\n",
        "Supports hue for categorical grouping (color-coded points for categories)."
      ],
      "metadata": {
        "id": "2NPpFHPNvwVD"
      }
    },
    {
      "cell_type": "markdown",
      "source": [
        "Q12.What is the purpose of the describe() function in Pandas?\n",
        "\n",
        "ANS:The describe() function in Pandas is used to generate summary statistics of numerical columns in a DataFrame or Series. It provides a quick overview of key statistical metrics such as:\n",
        "\n",
        "Count: Number of non-null entries\n",
        "\n",
        "Mean: Average value\n",
        "\n",
        "Standard deviation: Measure of data spread\n",
        "\n",
        "Min/Max: Minimum and maximum values\n",
        "\n",
        "25th, 50th, and 75th percentiles: Interquartile range (IQR)"
      ],
      "metadata": {
        "id": "TntepzSrzPex"
      }
    },
    {
      "cell_type": "markdown",
      "source": [
        "Q13.Why is handling missing data important in Pandas?\n",
        "\n",
        "ANS:Data Integrity: Missing data can distort the representation of your dataset and affect statistical summaries (mean, standard deviation, etc.).\n",
        "\n",
        "Model Accuracy: In machine learning or statistical models, missing data can result in biased predictions or errors if not handled correctly.\n",
        "\n",
        "Operational Stability: Some Pandas functions may fail or behave unexpectedly if missing values aren't managed (e.g., mean() with NaN values).\n",
        "\n",
        "Consistency: Missing values often arise due to data collection issues. Handling them ensures consistency in your analysis pipeline."
      ],
      "metadata": {
        "id": "Ilb6IaiEzxiA"
      }
    },
    {
      "cell_type": "markdown",
      "source": [
        "Q14.What are the benefits of using Plotly for data visualization?\n",
        "\n",
        "ANS:Plotly offers several benefits for data visualization, making it a powerful tool for creating interactive and web-friendly plots:\n",
        "\n",
        "🔹 1. Interactive Visualizations\n",
        "Plotly makes it easy to create interactive charts (zoom, pan, hover tooltips), enhancing the user experience and providing deeper insight into the data.\n",
        "\n",
        "🔹 2. Web-Ready\n",
        "The visualizations are rendered in HTML/JavaScript, making them ideal for sharing or embedding in web applications, dashboards, or reports.\n",
        "\n",
        "🔹 3. High-Quality Graphics\n",
        "Plotly provides high-quality, publication-ready graphics with minimal configuration, ensuring that visualizations look professional.\n",
        "\n",
        "🔹 4. Wide Range of Plot Types\n",
        "It supports a variety of chart types: line plots, bar charts, heatmaps, 3D plots, choropleths, and more. This allows users to represent data in many different ways.\n",
        "\n",
        "🔹 5. Easy Integration with Dash\n",
        "Plotly integrates seamlessly with Dash, a framework for building interactive web applications without needing to write JavaScript.\n",
        "\n",
        "🔹 6. Supports Large Datasets\n",
        "Plotly is efficient with large datasets and can handle complex visualizations without significant slowdowns, especially with its ability to use WebGL for rendering.\n",
        "\n",
        "🔹 7. Built-in Statistical Functions\n",
        "Plotly provides built-in statistical analysis features, such as trend lines and error bars, making it easier to incorporate analysis into visualizations."
      ],
      "metadata": {
        "id": "JoxZVD-H0w5-"
      }
    },
    {
      "cell_type": "markdown",
      "source": [
        "Q15.How does NumPy handle multidimensional arrays?\n",
        "\n",
        "ANS:NumPy handles multidimensional arrays through its ndarray object, which allows for efficient representation and manipulation of data in more than one dimension (e.g., 2D matrices, 3D tensors)."
      ],
      "metadata": {
        "id": "csYNWYcz1EE_"
      }
    },
    {
      "cell_type": "markdown",
      "source": [
        "Q16. What is the role of Bokeh in data visualization?\n",
        "\n",
        "ANS:Bokeh's role in data visualization is to create interactive, web-based plots that are highly customizable and suitable for real-time data exploration and dashboarding. It’s particularly useful when you need dynamic visualizations in web applications or when exploring large datasets interactively."
      ],
      "metadata": {
        "id": "hPzorDxl1sXF"
      }
    },
    {
      "cell_type": "markdown",
      "source": [
        "Q17.Explain the difference between apply() and map() in Pandas?\n",
        "\n",
        "ANS:In Pandas, both apply() and map() are used to apply functions to data, but they have different purposes, scopes, and use cases. Here's a breakdown of their differences:\n",
        "\n",
        "🔹 1. Functionality\n",
        "apply():\n",
        "\n",
        "Can be used on both DataFrames and Series.\n",
        "\n",
        "Allows applying a function along an axis (row or column) of a DataFrame or to all elements of a Series.\n",
        "\n",
        "Supports more complex operations like multiple arguments, lambda functions, or custom functions that may require data across rows/columns.\n",
        "\n",
        "map():\n",
        "\n",
        "Primarily used for Series.\n",
        "\n",
        "Applies a function element-wise to each value of a Series.\n",
        "\n",
        "Works well with dictionaries or Series for element-wise mapping, useful for replacing or transforming values."
      ],
      "metadata": {
        "id": "YD1Gi79818l9"
      }
    },
    {
      "cell_type": "markdown",
      "source": [
        "Q18.What are some advanced features of NumPy?\n",
        "\n",
        "ANS:🔹 1. Broadcasting\n",
        "Broadcasting allows NumPy to perform element-wise operations on arrays of different shapes and sizes, automatically expanding the smaller array to match the shape of the larger one.\n",
        "\n",
        "🔹 2. Vectorization\n",
        "Vectorized operations allow you to perform mathematical operations on entire arrays without needing explicit loops, leading to more concise and faster code.\n",
        "\n",
        "🔹 3. Advanced Indexing\n",
        "NumPy supports fancy indexing, where you can index and slice arrays in powerful ways, including using boolean arrays or integer arrays.\n",
        "\n",
        "🔹 4. Linear Algebra Functions\n",
        "NumPy includes a range of functions for performing linear algebra operations such as dot product, matrix multiplication, eigenvalues, etc..\n",
        "\n",
        "🔹 5. Random Number Generation\n",
        "The numpy.random module allows you to generate random numbers from various distributions (uniform, normal, binomial, etc.) and also create random arrays.\n",
        "\n"
      ],
      "metadata": {
        "id": "dE_dr_5A2g-e"
      }
    },
    {
      "cell_type": "markdown",
      "source": [
        "Q19.How does Pandas simplify time series analysis?\n",
        "\n",
        "ANS:Pandas simplifies time series analysis through its powerful datetime functionality, making it easier to work with date/time data and perform common operations like resampling, slicing, aggregation, and window functions"
      ],
      "metadata": {
        "id": "4X1CAziY3IZF"
      }
    },
    {
      "cell_type": "markdown",
      "source": [
        "Q20.What is the role of a pivot table in Pandas?\n",
        "\n",
        "ANS: A pivot table in Pandas is used to summarize and aggregate data by reshaping it. It allows you to group data and apply functions like sum, mean, count, etc., to create a multi-dimensional summary table. This is especially useful for cross-tabulation, data analysis, and data summarization tasks."
      ],
      "metadata": {
        "id": "NaT9PRoZ3ciV"
      }
    },
    {
      "cell_type": "markdown",
      "source": [
        "Q21. Why is NumPy’s array slicing faster than Python’s list slicing?\n",
        "\n",
        "ANS:NumPy’s slicing is faster than Python’s list slicing because NumPy stores arrays in contiguous memory, performs operations in-place (without copying data), and leverages C-level optimizations for numerical operations. In contrast, Python lists are more flexible but slower due to their non-contiguous storage, higher overhead for slicing, and lack of optimization for numerical tasks."
      ],
      "metadata": {
        "id": "hLg4XPkd3s3c"
      }
    },
    {
      "cell_type": "markdown",
      "source": [
        "Q22. What are some common use cases for Seaborn?\n",
        "\n",
        "ANS:Seaborn is a versatile library for creating beautiful and informative statistical visualizations, particularly useful for distribution analysis, visualizing relationships between variables, working with categorical data, pairwise comparisons, correlation matrices, and more. It's particularly powerful when you want to create plots with minimal code and is ideal for exploratory data analysis (EDA) and statistical visualization.\n",
        "\n",
        "\n",
        "\n",
        "\n"
      ],
      "metadata": {
        "id": "8dnjDYJh3-RU"
      }
    },
    {
      "cell_type": "markdown",
      "source": [
        "***PRACTICAL QUESTIONS***"
      ],
      "metadata": {
        "id": "Uzh-vGz74Tuk"
      }
    },
    {
      "cell_type": "markdown",
      "source": [
        "Q1.How do you create a 2D NumPy array and calculate the sum of each row"
      ],
      "metadata": {
        "id": "YsWtXlaG4eM7"
      }
    },
    {
      "cell_type": "code",
      "source": [
        "import numpy as np\n",
        "\n",
        "array = np.array([[1, 2, 3],\n",
        "                  [4, 5, 6],\n",
        "                  [7, 8, 9]])\n",
        "\n",
        "row_sums = np.sum(array, axis=1)\n",
        "\n",
        "print(\"Original Array:\")\n",
        "print(array)\n",
        "print(\"Sum of each row:\")\n",
        "print(row_sums)\n"
      ],
      "metadata": {
        "colab": {
          "base_uri": "https://localhost:8080/"
        },
        "id": "s2sUO-7_kwiy",
        "outputId": "acec3383-1879-40ef-a4ce-37cd5e9e507a"
      },
      "execution_count": null,
      "outputs": [
        {
          "output_type": "stream",
          "name": "stdout",
          "text": [
            "Original Array:\n",
            "[[1 2 3]\n",
            " [4 5 6]\n",
            " [7 8 9]]\n",
            "Sum of each row:\n",
            "[ 6 15 24]\n"
          ]
        }
      ]
    },
    {
      "cell_type": "markdown",
      "source": [
        "Q2. Write a Pandas script to find the mean of a specific column in a DataFrame"
      ],
      "metadata": {
        "id": "ul22l9w4lEUx"
      }
    },
    {
      "cell_type": "code",
      "source": [
        "import pandas as pd\n",
        "\n",
        "data = {\n",
        "    'Name': ['Alice', 'Bob', 'Charlie', 'David'],\n",
        "    'Age': [25, 30, 35, 40],\n",
        "    'Salary': [50000, 60000, 55000, 70000]\n",
        "}\n",
        "\n",
        "df = pd.DataFrame(data)\n",
        "\n",
        "mean_salary = df['Salary'].mean()\n",
        "\n",
        "print(\"Mean Salary:\", mean_salary)\n"
      ],
      "metadata": {
        "colab": {
          "base_uri": "https://localhost:8080/"
        },
        "id": "SNpwTW9LlRwz",
        "outputId": "df5e5e59-3cb2-4e03-fc14-462bb44c9116"
      },
      "execution_count": null,
      "outputs": [
        {
          "output_type": "stream",
          "name": "stdout",
          "text": [
            "Mean Salary: 58750.0\n"
          ]
        }
      ]
    },
    {
      "cell_type": "markdown",
      "source": [
        "Q3. Create a scatter plot using Matplotlib?"
      ],
      "metadata": {
        "id": "QQs0HWwtl66Z"
      }
    },
    {
      "cell_type": "code",
      "source": [
        "import matplotlib.pyplot as plt\n",
        "\n",
        "x = [10, 20, 30, 40, 50]\n",
        "y = [15, 25, 35, 30, 45]\n",
        "\n",
        "plt.scatter(x, y, color='blue', marker='o')\n",
        "\n",
        "plt.title(\"Sample Scatter Plot\")\n",
        "plt.xlabel(\"X-axis\")\n",
        "plt.ylabel(\"Y-axis\")\n",
        "\n",
        "plt.show()\n"
      ],
      "metadata": {
        "colab": {
          "base_uri": "https://localhost:8080/",
          "height": 472
        },
        "id": "9PcoQ2zFmKNs",
        "outputId": "981d9620-ca43-4c94-e855-7d861c88c1c0"
      },
      "execution_count": null,
      "outputs": [
        {
          "output_type": "display_data",
          "data": {
            "text/plain": [
              "<Figure size 640x480 with 1 Axes>"
            ],
            "image/png": "[encoded data removed]"
          },
          "metadata": {}
        }
      ]
    },
    {
      "cell_type": "markdown",
      "source": [
        "Q4.CA How do you calculate the correlation matrix using Seaborn and visualize it with a heatmap?"
      ],
      "metadata": {
        "id": "dYUrjRDKmgju"
      }
    },
    {
      "cell_type": "code",
      "source": [
        "import pandas as pd\n",
        "import seaborn as sns\n",
        "import matplotlib.pyplot as plt\n",
        "\n",
        "# Sample DataFrame\n",
        "data = {\n",
        "    'Math': [85, 90, 78, 92, 88],\n",
        "    'Physics': [80, 85, 75, 89, 84],\n",
        "    'Chemistry': [78, 83, 72, 88, 80]\n",
        "}\n",
        "\n",
        "df = pd.DataFrame(data)\n",
        "\n",
        "corr_matrix = df.corr()\n",
        "\n",
        "sns.heatmap(corr_matrix, annot=True, cmap='coolwarm', linewidths=0.5)\n",
        "\n",
        "plt.title(\"Correlation Matrix Heatmap\")\n",
        "\n",
        "plt.show()\n"
      ],
      "metadata": {
        "colab": {
          "base_uri": "https://localhost:8080/",
          "height": 452
        },
        "id": "vpvGTkesnJ2E",
        "outputId": "2ab436de-f048-421c-a76f-1b185879c27c"
      },
      "execution_count": null,
      "outputs": [
        {
          "output_type": "display_data",
          "data": {
            "text/plain": [
              "<Figure size 640x480 with 2 Axes>"
            ],
            "image/png": "[encoded data removed]"
          },
          "metadata": {}
        }
      ]
    },
    {
      "cell_type": "markdown",
      "source": [
        "Q5. Generate a bar plot using Plotly?"
      ],
      "metadata": {
        "id": "6NitDCa3nVd_"
      }
    },
    {
      "cell_type": "code",
      "source": [
        "import plotly.express as px\n",
        "\n",
        "data = {\n",
        "    'Fruits': ['Apple', 'Banana', 'Orange', 'Grapes'],\n",
        "    'Quantity': [10, 15, 7, 12]\n",
        "}\n",
        "\n",
        "import pandas as pd\n",
        "df = pd.DataFrame(data)\n",
        "\n",
        "fig = px.bar(df, x='Fruits', y='Quantity', title='Fruit Quantity Bar Plot')\n",
        "\n",
        "fig.show()"
      ],
      "metadata": {
        "colab": {
          "base_uri": "https://localhost:8080/",
          "height": 542
        },
        "id": "60G4PGmYqBO8",
        "outputId": "63f1dbdd-5e70-4ccb-a944-a2922e905c66"
      },
      "execution_count": null,
      "outputs": [
        {
          "output_type": "display_data",
          "data": {
            "text/html": [
              "<html>\n",
              "<head><meta charset=\"utf-8\" /></head>\n",
              "<body>\n",
              "    <div>            <script src=\"https://cdnjs.cloudflare.com/ajax/libs/mathjax/2.7.5/MathJax.js?config=TeX-AMS-MML_SVG\"></script><script type=\"text/javascript\">if (window.MathJax && window.MathJax.Hub && window.MathJax.Hub.Config) {window.MathJax.Hub.Config({SVG: {font: \"STIX-Web\"}});}</script>                <script type=\"text/javascript\">window.PlotlyConfig = {MathJaxConfig: 'local'};</script>\n",
              "        <script charset=\"utf-8\" src=\"https://cdn.plot.ly/plotly-2.35.2.min.js\"></script>                <div id=\"47ace94d-ed23-4871-af85-c2e4e61b7644\" class=\"plotly-graph-div\" style=\"height:525px; width:100%;\"></div>            <script type=\"text/javascript\">                                    window.PLOTLYENV=window.PLOTLYENV || {};                                    if (document.getElementById(\"47ace94d-ed23-4871-af85-c2e4e61b7644\")) {                    Plotly.newPlot(                        \"47ace94d-ed23-4871-af85-c2e4e61b7644\",                        [{\"alignmentgroup\":\"True\",\"hovertemplate\":\"Fruits=%{x}\\u003cbr\\u003eQuantity=%{y}\\u003cextra\\u003e\\u003c\\u002fextra\\u003e\",\"legendgroup\":\"\",\"marker\":{\"color\":\"#636efa\",\"pattern\":{\"shape\":\"\"}},\"name\":\"\",\"offsetgroup\":\"\",\"orientation\":\"v\",\"showlegend\":false,\"textposition\":\"auto\",\"x\":[\"Apple\",\"Banana\",\"Orange\",\"Grapes\"],\"xaxis\":\"x\",\"y\":[10,15,7,12],\"yaxis\":\"y\",\"type\":\"bar\"}],                        {\"template\":{\"data\":{\"histogram2dcontour\":[{\"type\":\"histogram2dcontour\",\"colorbar\":{\"outlinewidth\":0,\"ticks\":\"\"},\"colorscale\":[[0.0,\"#0d0887\"],[0.1111111111111111,\"#46039f\"],[0.2222222222222222,\"#7201a8\"],[0.3333333333333333,\"#9c179e\"],[0.4444444444444444,\"#bd3786\"],[0.5555555555555556,\"#d8576b\"],[0.6666666666666666,\"#ed7953\"],[0.7777777777777778,\"#fb9f3a\"],[0.8888888888888888,\"#fdca26\"],[1.0,\"#f0f921\"]]}],\"choropleth\":[{\"type\":\"choropleth\",\"colorbar\":{\"outlinewidth\":0,\"ticks\":\"\"}}],\"histogram2d\":[{\"type\":\"histogram2d\",\"colorbar\":{\"outlinewidth\":0,\"ticks\":\"\"},\"colorscale\":[[0.0,\"#0d0887\"],[0.1111111111111111,\"#46039f\"],[0.2222222222222222,\"#7201a8\"],[0.3333333333333333,\"#9c179e\"],[0.4444444444444444,\"#bd3786\"],[0.5555555555555556,\"#d8576b\"],[0.6666666666666666,\"#ed7953\"],[0.7777777777777778,\"#fb9f3a\"],[0.8888888888888888,\"#fdca26\"],[1.0,\"#f0f921\"]]}],\"heatmap\":[{\"type\":\"heatmap\",\"colorbar\":{\"outlinewidth\":0,\"ticks\":\"\"},\"colorscale\":[[0.0,\"#0d0887\"],[0.1111111111111111,\"#46039f\"],[0.2222222222222222,\"#7201a8\"],[0.3333333333333333,\"#9c179e\"],[0.4444444444444444,\"#bd3786\"],[0.5555555555555556,\"#d8576b\"],[0.6666666666666666,\"#ed7953\"],[0.7777777777777778,\"#fb9f3a\"],[0.8888888888888888,\"#fdca26\"],[1.0,\"#f0f921\"]]}],\"heatmapgl\":[{\"type\":\"heatmapgl\",\"colorbar\":{\"outlinewidth\":0,\"ticks\":\"\"},\"colorscale\":[[0.0,\"#0d0887\"],[0.1111111111111111,\"#46039f\"],[0.2222222222222222,\"#7201a8\"],[0.3333333333333333,\"#9c179e\"],[0.4444444444444444,\"#bd3786\"],[0.5555555555555556,\"#d8576b\"],[0.6666666666666666,\"#ed7953\"],[0.7777777777777778,\"#fb9f3a\"],[0.8888888888888888,\"#fdca26\"],[1.0,\"#f0f921\"]]}],\"contourcarpet\":[{\"type\":\"contourcarpet\",\"colorbar\":{\"outlinewidth\":0,\"ticks\":\"\"}}],\"contour\":[{\"type\":\"contour\",\"colorbar\":{\"outlinewidth\":0,\"ticks\":\"\"},\"colorscale\":[[0.0,\"#0d0887\"],[0.1111111111111111,\"#46039f\"],[0.2222222222222222,\"#7201a8\"],[0.3333333333333333,\"#9c179e\"],[0.4444444444444444,\"#bd3786\"],[0.5555555555555556,\"#d8576b\"],[0.6666666666666666,\"#ed7953\"],[0.7777777777777778,\"#fb9f3a\"],[0.8888888888888888,\"#fdca26\"],[1.0,\"#f0f921\"]]}],\"surface\":[{\"type\":\"surface\",\"colorbar\":{\"outlinewidth\":0,\"ticks\":\"\"},\"colorscale\":[[0.0,\"#0d0887\"],[0.1111111111111111,\"#46039f\"],[0.2222222222222222,\"#7201a8\"],[0.3333333333333333,\"#9c179e\"],[0.4444444444444444,\"#bd3786\"],[0.5555555555555556,\"#d8576b\"],[0.6666666666666666,\"#ed7953\"],[0.7777777777777778,\"#fb9f3a\"],[0.8888888888888888,\"#fdca26\"],[1.0,\"#f0f921\"]]}],\"mesh3d\":[{\"type\":\"mesh3d\",\"colorbar\":{\"outlinewidth\":0,\"ticks\":\"\"}}],\"scatter\":[{\"fillpattern\":{\"fillmode\":\"overlay\",\"size\":10,\"solidity\":0.2},\"type\":\"scatter\"}],\"parcoords\":[{\"type\":\"parcoords\",\"line\":{\"colorbar\":{\"outlinewidth\":0,\"ticks\":\"\"}}}],\"scatterpolargl\":[{\"type\":\"scatterpolargl\",\"marker\":{\"colorbar\":{\"outlinewidth\":0,\"ticks\":\"\"}}}],\"bar\":[{\"error_x\":{\"color\":\"#2a3f5f\"},\"error_y\":{\"color\":\"#2a3f5f\"},\"marker\":{\"line\":{\"color\":\"#E5ECF6\",\"width\":0.5},\"pattern\":{\"fillmode\":\"overlay\",\"size\":10,\"solidity\":0.2}},\"type\":\"bar\"}],\"scattergeo\":[{\"type\":\"scattergeo\",\"marker\":{\"colorbar\":{\"outlinewidth\":0,\"ticks\":\"\"}}}],\"scatterpolar\":[{\"type\":\"scatterpolar\",\"marker\":{\"colorbar\":{\"outlinewidth\":0,\"ticks\":\"\"}}}],\"histogram\":[{\"marker\":{\"pattern\":{\"fillmode\":\"overlay\",\"size\":10,\"solidity\":0.2}},\"type\":\"histogram\"}],\"scattergl\":[{\"type\":\"scattergl\",\"marker\":{\"colorbar\":{\"outlinewidth\":0,\"ticks\":\"\"}}}],\"scatter3d\":[{\"type\":\"scatter3d\",\"line\":{\"colorbar\":{\"outlinewidth\":0,\"ticks\":\"\"}},\"marker\":{\"colorbar\":{\"outlinewidth\":0,\"ticks\":\"\"}}}],\"scattermapbox\":[{\"type\":\"scattermapbox\",\"marker\":{\"colorbar\":{\"outlinewidth\":0,\"ticks\":\"\"}}}],\"scatterternary\":[{\"type\":\"scatterternary\",\"marker\":{\"colorbar\":{\"outlinewidth\":0,\"ticks\":\"\"}}}],\"scattercarpet\":[{\"type\":\"scattercarpet\",\"marker\":{\"colorbar\":{\"outlinewidth\":0,\"ticks\":\"\"}}}],\"carpet\":[{\"aaxis\":{\"endlinecolor\":\"#2a3f5f\",\"gridcolor\":\"white\",\"linecolor\":\"white\",\"minorgridcolor\":\"white\",\"startlinecolor\":\"#2a3f5f\"},\"baxis\":{\"endlinecolor\":\"#2a3f5f\",\"gridcolor\":\"white\",\"linecolor\":\"white\",\"minorgridcolor\":\"white\",\"startlinecolor\":\"#2a3f5f\"},\"type\":\"carpet\"}],\"table\":[{\"cells\":{\"fill\":{\"color\":\"#EBF0F8\"},\"line\":{\"color\":\"white\"}},\"header\":{\"fill\":{\"color\":\"#C8D4E3\"},\"line\":{\"color\":\"white\"}},\"type\":\"table\"}],\"barpolar\":[{\"marker\":{\"line\":{\"color\":\"#E5ECF6\",\"width\":0.5},\"pattern\":{\"fillmode\":\"overlay\",\"size\":10,\"solidity\":0.2}},\"type\":\"barpolar\"}],\"pie\":[{\"automargin\":true,\"type\":\"pie\"}]},\"layout\":{\"autotypenumbers\":\"strict\",\"colorway\":[\"#636efa\",\"#EF553B\",\"#00cc96\",\"#ab63fa\",\"#FFA15A\",\"#19d3f3\",\"#FF6692\",\"#B6E880\",\"#FF97FF\",\"#FECB52\"],\"font\":{\"color\":\"#2a3f5f\"},\"hovermode\":\"closest\",\"hoverlabel\":{\"align\":\"left\"},\"paper_bgcolor\":\"white\",\"plot_bgcolor\":\"#E5ECF6\",\"polar\":{\"bgcolor\":\"#E5ECF6\",\"angularaxis\":{\"gridcolor\":\"white\",\"linecolor\":\"white\",\"ticks\":\"\"},\"radialaxis\":{\"gridcolor\":\"white\",\"linecolor\":\"white\",\"ticks\":\"\"}},\"ternary\":{\"bgcolor\":\"#E5ECF6\",\"aaxis\":{\"gridcolor\":\"white\",\"linecolor\":\"white\",\"ticks\":\"\"},\"baxis\":{\"gridcolor\":\"white\",\"linecolor\":\"white\",\"ticks\":\"\"},\"caxis\":{\"gridcolor\":\"white\",\"linecolor\":\"white\",\"ticks\":\"\"}},\"coloraxis\":{\"colorbar\":{\"outlinewidth\":0,\"ticks\":\"\"}},\"colorscale\":{\"sequential\":[[0.0,\"#0d0887\"],[0.1111111111111111,\"#46039f\"],[0.2222222222222222,\"#7201a8\"],[0.3333333333333333,\"#9c179e\"],[0.4444444444444444,\"#bd3786\"],[0.5555555555555556,\"#d8576b\"],[0.6666666666666666,\"#ed7953\"],[0.7777777777777778,\"#fb9f3a\"],[0.8888888888888888,\"#fdca26\"],[1.0,\"#f0f921\"]],\"sequentialminus\":[[0.0,\"#0d0887\"],[0.1111111111111111,\"#46039f\"],[0.2222222222222222,\"#7201a8\"],[0.3333333333333333,\"#9c179e\"],[0.4444444444444444,\"#bd3786\"],[0.5555555555555556,\"#d8576b\"],[0.6666666666666666,\"#ed7953\"],[0.7777777777777778,\"#fb9f3a\"],[0.8888888888888888,\"#fdca26\"],[1.0,\"#f0f921\"]],\"diverging\":[[0,\"#8e0152\"],[0.1,\"#c51b7d\"],[0.2,\"#de77ae\"],[0.3,\"#f1b6da\"],[0.4,\"#fde0ef\"],[0.5,\"#f7f7f7\"],[0.6,\"#e6f5d0\"],[0.7,\"#b8e186\"],[0.8,\"#7fbc41\"],[0.9,\"#4d9221\"],[1,\"#276419\"]]},\"xaxis\":{\"gridcolor\":\"white\",\"linecolor\":\"white\",\"ticks\":\"\",\"title\":{\"standoff\":15},\"zerolinecolor\":\"white\",\"automargin\":true,\"zerolinewidth\":2},\"yaxis\":{\"gridcolor\":\"white\",\"linecolor\":\"white\",\"ticks\":\"\",\"title\":{\"standoff\":15},\"zerolinecolor\":\"white\",\"automargin\":true,\"zerolinewidth\":2},\"scene\":{\"xaxis\":{\"backgroundcolor\":\"#E5ECF6\",\"gridcolor\":\"white\",\"linecolor\":\"white\",\"showbackground\":true,\"ticks\":\"\",\"zerolinecolor\":\"white\",\"gridwidth\":2},\"yaxis\":{\"backgroundcolor\":\"#E5ECF6\",\"gridcolor\":\"white\",\"linecolor\":\"white\",\"showbackground\":true,\"ticks\":\"\",\"zerolinecolor\":\"white\",\"gridwidth\":2},\"zaxis\":{\"backgroundcolor\":\"#E5ECF6\",\"gridcolor\":\"white\",\"linecolor\":\"white\",\"showbackground\":true,\"ticks\":\"\",\"zerolinecolor\":\"white\",\"gridwidth\":2}},\"shapedefaults\":{\"line\":{\"color\":\"#2a3f5f\"}},\"annotationdefaults\":{\"arrowcolor\":\"#2a3f5f\",\"arrowhead\":0,\"arrowwidth\":1},\"geo\":{\"bgcolor\":\"white\",\"landcolor\":\"#E5ECF6\",\"subunitcolor\":\"white\",\"showland\":true,\"showlakes\":true,\"lakecolor\":\"white\"},\"title\":{\"x\":0.05},\"mapbox\":{\"style\":\"light\"}}},\"xaxis\":{\"anchor\":\"y\",\"domain\":[0.0,1.0],\"title\":{\"text\":\"Fruits\"}},\"yaxis\":{\"anchor\":\"x\",\"domain\":[0.0,1.0],\"title\":{\"text\":\"Quantity\"}},\"legend\":{\"tracegroupgap\":0},\"title\":{\"text\":\"Fruit Quantity Bar Plot\"},\"barmode\":\"relative\"},                        {\"responsive\": true}                    ).then(function(){\n",
              "                            \n",
              "var gd = document.getElementById('47ace94d-ed23-4871-af85-c2e4e61b7644');\n",
              "var x = new MutationObserver(function (mutations, observer) {{\n",
              "        var display = window.getComputedStyle(gd).display;\n",
              "        if (!display || display === 'none') {{\n",
              "            console.log([gd, 'removed!']);\n",
              "            Plotly.purge(gd);\n",
              "            observer.disconnect();\n",
              "        }}\n",
              "}});\n",
              "\n",
              "// Listen for the removal of the full notebook cells\n",
              "var notebookContainer = gd.closest('#notebook-container');\n",
              "if (notebookContainer) {{\n",
              "    x.observe(notebookContainer, {childList: true});\n",
              "}}\n",
              "\n",
              "// Listen for the clearing of the current output cell\n",
              "var outputEl = gd.closest('.output');\n",
              "if (outputEl) {{\n",
              "    x.observe(outputEl, {childList: true});\n",
              "}}\n",
              "\n",
              "                        })                };                            </script>        </div>\n",
              "</body>\n",
              "</html>"
            ]
          },
          "metadata": {}
        }
      ]
    },
    {
      "cell_type": "markdown",
      "source": [
        "Q6. Create a DataFrame and add a new column based on an existing column\n"
      ],
      "metadata": {
        "id": "OrIuY-U2qvPL"
      }
    },
    {
      "cell_type": "code",
      "source": [
        "import pandas as pd\n",
        "\n",
        "data = {\n",
        "    'Name': ['Alice', 'Bob', 'Charlie', 'David'],\n",
        "    'Salary': [50000, 60000, 55000, 70000]\n",
        "}\n",
        "\n",
        "df = pd.DataFrame(data)\n",
        "\n",
        "# Add a new column 'Bonus' as 10% of the 'Salary'\n",
        "df['Bonus'] = df['Salary'] * 0.10\n",
        "\n",
        "print(df)\n"
      ],
      "metadata": {
        "colab": {
          "base_uri": "https://localhost:8080/"
        },
        "id": "ARNpPaMcrOjR",
        "outputId": "d755fe8d-e847-45fb-bc95-a0952464c0b8"
      },
      "execution_count": null,
      "outputs": [
        {
          "output_type": "stream",
          "name": "stdout",
          "text": [
            "      Name  Salary   Bonus\n",
            "0    Alice   50000  5000.0\n",
            "1      Bob   60000  6000.0\n",
            "2  Charlie   55000  5500.0\n",
            "3    David   70000  7000.0\n"
          ]
        }
      ]
    },
    {
      "cell_type": "markdown",
      "source": [
        "Q7 Write a program to perform element-wise multiplication of two NumPy arrays?"
      ],
      "metadata": {
        "id": "F5tkM-FLrZzL"
      }
    },
    {
      "cell_type": "code",
      "source": [
        "import numpy as np\n",
        "\n",
        "array1 = np.array([1, 2, 3, 4])\n",
        "array2 = np.array([5, 6, 7, 8])\n",
        "\n",
        "# Perform element-wise multiplication\n",
        "result = array1 * array2\n",
        "\n",
        "print(\"Element-wise multiplication result:\", result)\n"
      ],
      "metadata": {
        "colab": {
          "base_uri": "https://localhost:8080/"
        },
        "id": "rcZwZM2vrvQ-",
        "outputId": "d2e93283-acd2-48f9-9281-3d5fe5f3db47"
      },
      "execution_count": null,
      "outputs": [
        {
          "output_type": "stream",
          "name": "stdout",
          "text": [
            "Element-wise multiplication result: [ 5 12 21 32]\n"
          ]
        }
      ]
    },
    {
      "cell_type": "markdown",
      "source": [
        "Q8 Create a line plot with multiple lines using Matplotli?"
      ],
      "metadata": {
        "id": "Ec9rwiJDr2Jl"
      }
    },
    {
      "cell_type": "code",
      "source": [
        "import matplotlib.pyplot as plt\n",
        "\n",
        "x = [1, 2, 3, 4, 5]\n",
        "y1 = [10, 15, 13, 17, 19]\n",
        "y2 = [8, 12, 11, 14, 16]\n",
        "\n",
        "plt.plot(x, y1, label='Line 1', color='blue', marker='o')\n",
        "plt.plot(x, y2, label='Line 2', color='green', marker='s')\n",
        "\n",
        "plt.xlabel('X-axis')\n",
        "plt.ylabel('Y-axis')\n",
        "plt.title('Multiple Line Plot')\n",
        "plt.legend()\n",
        "plt.grid(True)\n",
        "\n",
        "plt.show()\n"
      ],
      "metadata": {
        "colab": {
          "base_uri": "https://localhost:8080/",
          "height": 472
        },
        "id": "n6auCZyOsDwP",
        "outputId": "4cb5430b-050d-4c8a-887e-37ff4645aaaa"
      },
      "execution_count": null,
      "outputs": [
        {
          "output_type": "display_data",
          "data": {
            "text/plain": [
              "<Figure size 640x480 with 1 Axes>"
            ],
            "image/png": "[encoded data removed]"
          },
          "metadata": {}
        }
      ]
    },
    {
      "cell_type": "markdown",
      "source": [
        "Q9 Generate a Pandas DataFrame and filter rows where a column value is greater than a threshold?"
      ],
      "metadata": {
        "id": "7JQUrOfZsnKJ"
      }
    },
    {
      "cell_type": "code",
      "source": [
        "import pandas as pd\n",
        "\n",
        "data = {\n",
        "    'Name': ['Alice', 'Bob', 'Charlie', 'David'],\n",
        "    'Score': [85, 72, 90, 65]\n",
        "}\n",
        "\n",
        "df = pd.DataFrame(data)\n",
        "\n",
        "# Filter rows where 'Score' > 75\n",
        "filtered_df = df[df['Score'] > 75]\n",
        "\n",
        "print(\"Filtered DataFrame:\")\n",
        "print(filtered_df)\n"
      ],
      "metadata": {
        "colab": {
          "base_uri": "https://localhost:8080/"
        },
        "id": "Gp002gGgsuEf",
        "outputId": "d109f87d-aed7-4ca8-fd63-3adb6f7d5f1c"
      },
      "execution_count": null,
      "outputs": [
        {
          "output_type": "stream",
          "name": "stdout",
          "text": [
            "Filtered DataFrame:\n",
            "      Name  Score\n",
            "0    Alice     85\n",
            "2  Charlie     90\n"
          ]
        }
      ]
    },
    {
      "cell_type": "markdown",
      "source": [
        "Q10.Create a histogram using Seaborn to visualize a distribution?"
      ],
      "metadata": {
        "id": "z4blcgqqs-9L"
      }
    },
    {
      "cell_type": "code",
      "source": [
        "import seaborn as sns\n",
        "import matplotlib.pyplot as plt\n",
        "\n",
        "ages = [22, 25, 27, 30, 31, 35, 40, 42, 45, 48, 50, 52, 55, 60, 65, 70, 75]\n",
        "\n",
        "sns.histplot(ages, bins=8, kde=False, color='skyblue')\n",
        "\n",
        "plt.xlabel('Age')\n",
        "plt.ylabel('Frequency')\n",
        "plt.title('Age Distribution Histogram')\n",
        "\n",
        "plt.show()\n"
      ],
      "metadata": {
        "colab": {
          "base_uri": "https://localhost:8080/",
          "height": 472
        },
        "id": "fuLpmhMbtGFV",
        "outputId": "24275f37-4202-4102-ceea-308625e4b076"
      },
      "execution_count": null,
      "outputs": [
        {
          "output_type": "display_data",
          "data": {
            "text/plain": [
              "<Figure size 640x480 with 1 Axes>"
            ],
            "image/png": "[encoded data removed]"
          },
          "metadata": {}
        }
      ]
    },
    {
      "cell_type": "markdown",
      "source": [
        "Q11.Perform matrix multiplication using NumPy?"
      ],
      "metadata": {
        "id": "GKJBHWeztWUT"
      }
    },
    {
      "cell_type": "code",
      "source": [
        "import numpy as np\n",
        "\n",
        "A = np.array([[1, 2],\n",
        "              [3, 4]])\n",
        "\n",
        "B = np.array([[5, 6],\n",
        "              [7, 8]])\n",
        "\n",
        "C = np.matmul(A, B)\n",
        "# Or equivalently: C = A @ B\n",
        "\n",
        "print(\"Matrix A:\")\n",
        "print(A)\n",
        "print(\"\\nMatrix B:\")\n",
        "print(B)\n",
        "print(\"\\nMatrix Multiplication Result (A x B):\")\n",
        "print(C)\n"
      ],
      "metadata": {
        "colab": {
          "base_uri": "https://localhost:8080/"
        },
        "id": "6bXuVlNItd9B",
        "outputId": "b7f2c617-3e27-4a33-e69d-52dc2776647e"
      },
      "execution_count": null,
      "outputs": [
        {
          "output_type": "stream",
          "name": "stdout",
          "text": [
            "Matrix A:\n",
            "[[1 2]\n",
            " [3 4]]\n",
            "\n",
            "Matrix B:\n",
            "[[5 6]\n",
            " [7 8]]\n",
            "\n",
            "Matrix Multiplication Result (A x B):\n",
            "[[19 22]\n",
            " [43 50]]\n"
          ]
        }
      ]
    },
    {
      "cell_type": "markdown",
      "source": [
        "Q12.Use Pandas to load a CSV file and display its first 5 rowsA"
      ],
      "metadata": {
        "id": "K3R8zOkAtsJP"
      }
    },
    {
      "cell_type": "code",
      "source": [
        "import pandas as pd\n",
        "\n",
        "df = pd.read_csv('industry.csv') t5\n",
        "print(df.head())\n"
      ],
      "metadata": {
        "colab": {
          "base_uri": "https://localhost:8080/"
        },
        "id": "G0lzjUPCuGGd",
        "outputId": "13168b12-6434-46d4-9456-45c88ab74609"
      },
      "execution_count": null,
      "outputs": [
        {
          "output_type": "stream",
          "name": "stdout",
          "text": [
            "                        Industry\n",
            "0             Accounting/Finance\n",
            "1   Advertising/Public Relations\n",
            "2             Aerospace/Aviation\n",
            "3  Arts/Entertainment/Publishing\n",
            "4                     Automotive\n"
          ]
        }
      ]
    },
    {
      "cell_type": "markdown",
      "source": [
        "Q13.Create a 3D scatter plot using Plotly"
      ],
      "metadata": {
        "id": "MGcL6bovvOeR"
      }
    },
    {
      "cell_type": "code",
      "source": [
        "import plotly.express as px\n",
        "import pandas as pd\n",
        "\n",
        "data = {\n",
        "    'X': [1, 2, 3, 4, 5],\n",
        "    'Y': [10, 11, 12, 13, 14],\n",
        "    'Z': [5, 6, 7, 8, 9],\n",
        "    'Category': ['A', 'B', 'A', 'B', 'A']\n",
        "}\n",
        "\n",
        "df = pd.DataFrame(data)\n",
        "\n",
        "fig = px.scatter_3d(df, x='X', y='Y', z='Z', color='Category', title='3D Scatter Plot')\n",
        "\n",
        "fig.show()\n"
      ],
      "metadata": {
        "colab": {
          "base_uri": "https://localhost:8080/",
          "height": 542
        },
        "id": "f_Aq0S-mvYP6",
        "outputId": "6cfa2b13-1f22-4e9e-daa4-db5351527512"
      },
      "execution_count": null,
      "outputs": [
        {
          "output_type": "display_data",
          "data": {
            "text/html": [
              "<html>\n",
              "<head><meta charset=\"utf-8\" /></head>\n",
              "<body>\n",
              "    <div>            <script src=\"https://cdnjs.cloudflare.com/ajax/libs/mathjax/2.7.5/MathJax.js?config=TeX-AMS-MML_SVG\"></script><script type=\"text/javascript\">if (window.MathJax && window.MathJax.Hub && window.MathJax.Hub.Config) {window.MathJax.Hub.Config({SVG: {font: \"STIX-Web\"}});}</script>                <script type=\"text/javascript\">window.PlotlyConfig = {MathJaxConfig: 'local'};</script>\n",
              "        <script charset=\"utf-8\" src=\"https://cdn.plot.ly/plotly-2.35.2.min.js\"></script>                <div id=\"f340a8cd-ae26-48ad-9a2e-c0d8686949ef\" class=\"plotly-graph-div\" style=\"height:525px; width:100%;\"></div>            <script type=\"text/javascript\">                                    window.PLOTLYENV=window.PLOTLYENV || {};                                    if (document.getElementById(\"f340a8cd-ae26-48ad-9a2e-c0d8686949ef\")) {                    Plotly.newPlot(                        \"f340a8cd-ae26-48ad-9a2e-c0d8686949ef\",                        [{\"hovertemplate\":\"Category=A\\u003cbr\\u003eX=%{x}\\u003cbr\\u003eY=%{y}\\u003cbr\\u003eZ=%{z}\\u003cextra\\u003e\\u003c\\u002fextra\\u003e\",\"legendgroup\":\"A\",\"marker\":{\"color\":\"#636efa\",\"symbol\":\"circle\"},\"mode\":\"markers\",\"name\":\"A\",\"scene\":\"scene\",\"showlegend\":true,\"x\":[1,3,5],\"y\":[10,12,14],\"z\":[5,7,9],\"type\":\"scatter3d\"},{\"hovertemplate\":\"Category=B\\u003cbr\\u003eX=%{x}\\u003cbr\\u003eY=%{y}\\u003cbr\\u003eZ=%{z}\\u003cextra\\u003e\\u003c\\u002fextra\\u003e\",\"legendgroup\":\"B\",\"marker\":{\"color\":\"#EF553B\",\"symbol\":\"circle\"},\"mode\":\"markers\",\"name\":\"B\",\"scene\":\"scene\",\"showlegend\":true,\"x\":[2,4],\"y\":[11,13],\"z\":[6,8],\"type\":\"scatter3d\"}],                        {\"template\":{\"data\":{\"histogram2dcontour\":[{\"type\":\"histogram2dcontour\",\"colorbar\":{\"outlinewidth\":0,\"ticks\":\"\"},\"colorscale\":[[0.0,\"#0d0887\"],[0.1111111111111111,\"#46039f\"],[0.2222222222222222,\"#7201a8\"],[0.3333333333333333,\"#9c179e\"],[0.4444444444444444,\"#bd3786\"],[0.5555555555555556,\"#d8576b\"],[0.6666666666666666,\"#ed7953\"],[0.7777777777777778,\"#fb9f3a\"],[0.8888888888888888,\"#fdca26\"],[1.0,\"#f0f921\"]]}],\"choropleth\":[{\"type\":\"choropleth\",\"colorbar\":{\"outlinewidth\":0,\"ticks\":\"\"}}],\"histogram2d\":[{\"type\":\"histogram2d\",\"colorbar\":{\"outlinewidth\":0,\"ticks\":\"\"},\"colorscale\":[[0.0,\"#0d0887\"],[0.1111111111111111,\"#46039f\"],[0.2222222222222222,\"#7201a8\"],[0.3333333333333333,\"#9c179e\"],[0.4444444444444444,\"#bd3786\"],[0.5555555555555556,\"#d8576b\"],[0.6666666666666666,\"#ed7953\"],[0.7777777777777778,\"#fb9f3a\"],[0.8888888888888888,\"#fdca26\"],[1.0,\"#f0f921\"]]}],\"heatmap\":[{\"type\":\"heatmap\",\"colorbar\":{\"outlinewidth\":0,\"ticks\":\"\"},\"colorscale\":[[0.0,\"#0d0887\"],[0.1111111111111111,\"#46039f\"],[0.2222222222222222,\"#7201a8\"],[0.3333333333333333,\"#9c179e\"],[0.4444444444444444,\"#bd3786\"],[0.5555555555555556,\"#d8576b\"],[0.6666666666666666,\"#ed7953\"],[0.7777777777777778,\"#fb9f3a\"],[0.8888888888888888,\"#fdca26\"],[1.0,\"#f0f921\"]]}],\"heatmapgl\":[{\"type\":\"heatmapgl\",\"colorbar\":{\"outlinewidth\":0,\"ticks\":\"\"},\"colorscale\":[[0.0,\"#0d0887\"],[0.1111111111111111,\"#46039f\"],[0.2222222222222222,\"#7201a8\"],[0.3333333333333333,\"#9c179e\"],[0.4444444444444444,\"#bd3786\"],[0.5555555555555556,\"#d8576b\"],[0.6666666666666666,\"#ed7953\"],[0.7777777777777778,\"#fb9f3a\"],[0.8888888888888888,\"#fdca26\"],[1.0,\"#f0f921\"]]}],\"contourcarpet\":[{\"type\":\"contourcarpet\",\"colorbar\":{\"outlinewidth\":0,\"ticks\":\"\"}}],\"contour\":[{\"type\":\"contour\",\"colorbar\":{\"outlinewidth\":0,\"ticks\":\"\"},\"colorscale\":[[0.0,\"#0d0887\"],[0.1111111111111111,\"#46039f\"],[0.2222222222222222,\"#7201a8\"],[0.3333333333333333,\"#9c179e\"],[0.4444444444444444,\"#bd3786\"],[0.5555555555555556,\"#d8576b\"],[0.6666666666666666,\"#ed7953\"],[0.7777777777777778,\"#fb9f3a\"],[0.8888888888888888,\"#fdca26\"],[1.0,\"#f0f921\"]]}],\"surface\":[{\"type\":\"surface\",\"colorbar\":{\"outlinewidth\":0,\"ticks\":\"\"},\"colorscale\":[[0.0,\"#0d0887\"],[0.1111111111111111,\"#46039f\"],[0.2222222222222222,\"#7201a8\"],[0.3333333333333333,\"#9c179e\"],[0.4444444444444444,\"#bd3786\"],[0.5555555555555556,\"#d8576b\"],[0.6666666666666666,\"#ed7953\"],[0.7777777777777778,\"#fb9f3a\"],[0.8888888888888888,\"#fdca26\"],[1.0,\"#f0f921\"]]}],\"mesh3d\":[{\"type\":\"mesh3d\",\"colorbar\":{\"outlinewidth\":0,\"ticks\":\"\"}}],\"scatter\":[{\"fillpattern\":{\"fillmode\":\"overlay\",\"size\":10,\"solidity\":0.2},\"type\":\"scatter\"}],\"parcoords\":[{\"type\":\"parcoords\",\"line\":{\"colorbar\":{\"outlinewidth\":0,\"ticks\":\"\"}}}],\"scatterpolargl\":[{\"type\":\"scatterpolargl\",\"marker\":{\"colorbar\":{\"outlinewidth\":0,\"ticks\":\"\"}}}],\"bar\":[{\"error_x\":{\"color\":\"#2a3f5f\"},\"error_y\":{\"color\":\"#2a3f5f\"},\"marker\":{\"line\":{\"color\":\"#E5ECF6\",\"width\":0.5},\"pattern\":{\"fillmode\":\"overlay\",\"size\":10,\"solidity\":0.2}},\"type\":\"bar\"}],\"scattergeo\":[{\"type\":\"scattergeo\",\"marker\":{\"colorbar\":{\"outlinewidth\":0,\"ticks\":\"\"}}}],\"scatterpolar\":[{\"type\":\"scatterpolar\",\"marker\":{\"colorbar\":{\"outlinewidth\":0,\"ticks\":\"\"}}}],\"histogram\":[{\"marker\":{\"pattern\":{\"fillmode\":\"overlay\",\"size\":10,\"solidity\":0.2}},\"type\":\"histogram\"}],\"scattergl\":[{\"type\":\"scattergl\",\"marker\":{\"colorbar\":{\"outlinewidth\":0,\"ticks\":\"\"}}}],\"scatter3d\":[{\"type\":\"scatter3d\",\"line\":{\"colorbar\":{\"outlinewidth\":0,\"ticks\":\"\"}},\"marker\":{\"colorbar\":{\"outlinewidth\":0,\"ticks\":\"\"}}}],\"scattermapbox\":[{\"type\":\"scattermapbox\",\"marker\":{\"colorbar\":{\"outlinewidth\":0,\"ticks\":\"\"}}}],\"scatterternary\":[{\"type\":\"scatterternary\",\"marker\":{\"colorbar\":{\"outlinewidth\":0,\"ticks\":\"\"}}}],\"scattercarpet\":[{\"type\":\"scattercarpet\",\"marker\":{\"colorbar\":{\"outlinewidth\":0,\"ticks\":\"\"}}}],\"carpet\":[{\"aaxis\":{\"endlinecolor\":\"#2a3f5f\",\"gridcolor\":\"white\",\"linecolor\":\"white\",\"minorgridcolor\":\"white\",\"startlinecolor\":\"#2a3f5f\"},\"baxis\":{\"endlinecolor\":\"#2a3f5f\",\"gridcolor\":\"white\",\"linecolor\":\"white\",\"minorgridcolor\":\"white\",\"startlinecolor\":\"#2a3f5f\"},\"type\":\"carpet\"}],\"table\":[{\"cells\":{\"fill\":{\"color\":\"#EBF0F8\"},\"line\":{\"color\":\"white\"}},\"header\":{\"fill\":{\"color\":\"#C8D4E3\"},\"line\":{\"color\":\"white\"}},\"type\":\"table\"}],\"barpolar\":[{\"marker\":{\"line\":{\"color\":\"#E5ECF6\",\"width\":0.5},\"pattern\":{\"fillmode\":\"overlay\",\"size\":10,\"solidity\":0.2}},\"type\":\"barpolar\"}],\"pie\":[{\"automargin\":true,\"type\":\"pie\"}]},\"layout\":{\"autotypenumbers\":\"strict\",\"colorway\":[\"#636efa\",\"#EF553B\",\"#00cc96\",\"#ab63fa\",\"#FFA15A\",\"#19d3f3\",\"#FF6692\",\"#B6E880\",\"#FF97FF\",\"#FECB52\"],\"font\":{\"color\":\"#2a3f5f\"},\"hovermode\":\"closest\",\"hoverlabel\":{\"align\":\"left\"},\"paper_bgcolor\":\"white\",\"plot_bgcolor\":\"#E5ECF6\",\"polar\":{\"bgcolor\":\"#E5ECF6\",\"angularaxis\":{\"gridcolor\":\"white\",\"linecolor\":\"white\",\"ticks\":\"\"},\"radialaxis\":{\"gridcolor\":\"white\",\"linecolor\":\"white\",\"ticks\":\"\"}},\"ternary\":{\"bgcolor\":\"#E5ECF6\",\"aaxis\":{\"gridcolor\":\"white\",\"linecolor\":\"white\",\"ticks\":\"\"},\"baxis\":{\"gridcolor\":\"white\",\"linecolor\":\"white\",\"ticks\":\"\"},\"caxis\":{\"gridcolor\":\"white\",\"linecolor\":\"white\",\"ticks\":\"\"}},\"coloraxis\":{\"colorbar\":{\"outlinewidth\":0,\"ticks\":\"\"}},\"colorscale\":{\"sequential\":[[0.0,\"#0d0887\"],[0.1111111111111111,\"#46039f\"],[0.2222222222222222,\"#7201a8\"],[0.3333333333333333,\"#9c179e\"],[0.4444444444444444,\"#bd3786\"],[0.5555555555555556,\"#d8576b\"],[0.6666666666666666,\"#ed7953\"],[0.7777777777777778,\"#fb9f3a\"],[0.8888888888888888,\"#fdca26\"],[1.0,\"#f0f921\"]],\"sequentialminus\":[[0.0,\"#0d0887\"],[0.1111111111111111,\"#46039f\"],[0.2222222222222222,\"#7201a8\"],[0.3333333333333333,\"#9c179e\"],[0.4444444444444444,\"#bd3786\"],[0.5555555555555556,\"#d8576b\"],[0.6666666666666666,\"#ed7953\"],[0.7777777777777778,\"#fb9f3a\"],[0.8888888888888888,\"#fdca26\"],[1.0,\"#f0f921\"]],\"diverging\":[[0,\"#8e0152\"],[0.1,\"#c51b7d\"],[0.2,\"#de77ae\"],[0.3,\"#f1b6da\"],[0.4,\"#fde0ef\"],[0.5,\"#f7f7f7\"],[0.6,\"#e6f5d0\"],[0.7,\"#b8e186\"],[0.8,\"#7fbc41\"],[0.9,\"#4d9221\"],[1,\"#276419\"]]},\"xaxis\":{\"gridcolor\":\"white\",\"linecolor\":\"white\",\"ticks\":\"\",\"title\":{\"standoff\":15},\"zerolinecolor\":\"white\",\"automargin\":true,\"zerolinewidth\":2},\"yaxis\":{\"gridcolor\":\"white\",\"linecolor\":\"white\",\"ticks\":\"\",\"title\":{\"standoff\":15},\"zerolinecolor\":\"white\",\"automargin\":true,\"zerolinewidth\":2},\"scene\":{\"xaxis\":{\"backgroundcolor\":\"#E5ECF6\",\"gridcolor\":\"white\",\"linecolor\":\"white\",\"showbackground\":true,\"ticks\":\"\",\"zerolinecolor\":\"white\",\"gridwidth\":2},\"yaxis\":{\"backgroundcolor\":\"#E5ECF6\",\"gridcolor\":\"white\",\"linecolor\":\"white\",\"showbackground\":true,\"ticks\":\"\",\"zerolinecolor\":\"white\",\"gridwidth\":2},\"zaxis\":{\"backgroundcolor\":\"#E5ECF6\",\"gridcolor\":\"white\",\"linecolor\":\"white\",\"showbackground\":true,\"ticks\":\"\",\"zerolinecolor\":\"white\",\"gridwidth\":2}},\"shapedefaults\":{\"line\":{\"color\":\"#2a3f5f\"}},\"annotationdefaults\":{\"arrowcolor\":\"#2a3f5f\",\"arrowhead\":0,\"arrowwidth\":1},\"geo\":{\"bgcolor\":\"white\",\"landcolor\":\"#E5ECF6\",\"subunitcolor\":\"white\",\"showland\":true,\"showlakes\":true,\"lakecolor\":\"white\"},\"title\":{\"x\":0.05},\"mapbox\":{\"style\":\"light\"}}},\"scene\":{\"domain\":{\"x\":[0.0,1.0],\"y\":[0.0,1.0]},\"xaxis\":{\"title\":{\"text\":\"X\"}},\"yaxis\":{\"title\":{\"text\":\"Y\"}},\"zaxis\":{\"title\":{\"text\":\"Z\"}}},\"legend\":{\"title\":{\"text\":\"Category\"},\"tracegroupgap\":0},\"title\":{\"text\":\"3D Scatter Plot\"}},                        {\"responsive\": true}                    ).then(function(){\n",
              "                            \n",
              "var gd = document.getElementById('f340a8cd-ae26-48ad-9a2e-c0d8686949ef');\n",
              "var x = new MutationObserver(function (mutations, observer) {{\n",
              "        var display = window.getComputedStyle(gd).display;\n",
              "        if (!display || display === 'none') {{\n",
              "            console.log([gd, 'removed!']);\n",
              "            Plotly.purge(gd);\n",
              "            observer.disconnect();\n",
              "        }}\n",
              "}});\n",
              "\n",
              "// Listen for the removal of the full notebook cells\n",
              "var notebookContainer = gd.closest('#notebook-container');\n",
              "if (notebookContainer) {{\n",
              "    x.observe(notebookContainer, {childList: true});\n",
              "}}\n",
              "\n",
              "// Listen for the clearing of the current output cell\n",
              "var outputEl = gd.closest('.output');\n",
              "if (outputEl) {{\n",
              "    x.observe(outputEl, {childList: true});\n",
              "}}\n",
              "\n",
              "                        })                };                            </script>        </div>\n",
              "</body>\n",
              "</html>"
            ]
          },
          "metadata": {}
        }
      ]
    },
    {
      "cell_type": "code",
      "source": [
        "import pandas as pd\n",
        "import numpy as np\n",
        "import random\n",
        "\n",
        "# Set seed for reproducibility\n",
        "np.random.seed(42)\n",
        "\n",
        "# Options\n",
        "project_types = ['Residential', 'Commercial', 'Infrastructure']\n",
        "months = ['Jan', 'Feb', 'Mar', 'Apr', 'May', 'Jun', 'Jul', 'Aug', 'Sep', 'Oct', 'Nov', 'Dec']\n",
        "\n",
        "# Generate dataset\n",
        "n = 500\n",
        "data = {\n",
        "    'Project_ID': [f'P{1000+i}' for i in range(n)],\n",
        "    'Project_Type': np.random.choice(project_types, n),\n",
        "    'Project_Budget': np.random.randint(50, 500, n),\n",
        "    'Project_Duration': np.random.randint(6, 48, n),\n",
        "    'Contractor_Experience': np.random.randint(1, 20, n),\n",
        "    'Start_Month': np.random.choice(months, n),\n",
        "    'Material_Delays': np.random.randint(0, 2, n),\n",
        "    'Avg_Labor_Count': np.random.randint(10, 100, n),\n",
        "    'Safety_Incidents': np.random.poisson(2, n),\n",
        "    'Change_Orders': np.random.poisson(1, n),\n",
        "    'Is_Delayed': np.random.randint(0, 2, n)\n",
        "}\n",
        "\n",
        "df = pd.DataFrame(data)\n",
        "df.to_csv(\"mock_construction_project_data.csv\", index=False)\n"
      ],
      "metadata": {
        "id": "sag5iglS0MDK"
      },
      "execution_count": null,
      "outputs": []
    }
  ]
}